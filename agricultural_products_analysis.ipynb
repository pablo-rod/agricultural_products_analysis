{
  "nbformat": 4,
  "nbformat_minor": 0,
  "metadata": {
    "colab": {
      "provenance": [],
      "authorship_tag": "ABX9TyOBttCj+sT9t83KTjZ47csA",
      "include_colab_link": true
    },
    "kernelspec": {
      "name": "python3",
      "display_name": "Python 3"
    },
    "language_info": {
      "name": "python"
    }
  },
  "cells": [
    {
      "cell_type": "markdown",
      "metadata": {
        "id": "view-in-github",
        "colab_type": "text"
      },
      "source": [
        "<a href=\"https://colab.research.google.com/github/pablo-rod/agricultural_products_analysis/blob/main/agricultural_products_analysis.ipynb\" target=\"_parent\"><img src=\"https://colab.research.google.com/assets/colab-badge.svg\" alt=\"Open In Colab\"/></a>"
      ]
    },
    {
      "cell_type": "code",
      "execution_count": 2,
      "metadata": {
        "id": "ImeYR2KKeyy1"
      },
      "outputs": [],
      "source": [
        "import numpy as np\n",
        "import pandas as pd\n"
      ]
    },
    {
      "cell_type": "code",
      "source": [
        "df = pd.read_csv('/content/agricultural_raw_material.csv')"
      ],
      "metadata": {
        "id": "cvPlhFEue7Vd"
      },
      "execution_count": 3,
      "outputs": []
    },
    {
      "cell_type": "markdown",
      "source": [
        "## Explorando o conjunto de dados\n",
        "Checando se existem registros nulos nas colunas"
      ],
      "metadata": {
        "id": "8IeIc4UXfh_v"
      }
    },
    {
      "cell_type": "code",
      "source": [
        "df.info\n",
        "df.isnull().sum()"
      ],
      "metadata": {
        "colab": {
          "base_uri": "https://localhost:8080/"
        },
        "id": "xH-_gwbvfMRt",
        "outputId": "0a795fd0-86c9-4496-cb82-d38384eed7f1"
      },
      "execution_count": 5,
      "outputs": [
        {
          "output_type": "execute_result",
          "data": {
            "text/plain": [
              "Month                            0\n",
              "Coarse wool Price               34\n",
              "Coarse wool price % Change      34\n",
              "Copra Price                     22\n",
              "Copra price % Change            22\n",
              "Cotton Price                     0\n",
              "Cotton price % Change            0\n",
              "Fine wool Price                 34\n",
              "Fine wool price % Change        34\n",
              "Hard log Price                   0\n",
              "Hard log price % Change          0\n",
              "Hard sawnwood Price             34\n",
              "Hard sawnwood price % Change    34\n",
              "Hide Price                      34\n",
              "Hide price % change             34\n",
              "Plywood Price                    0\n",
              "Plywood price % Change           0\n",
              "Rubber Price                     0\n",
              "Rubber price % Change            0\n",
              "Softlog Price                   34\n",
              "Softlog price % Change          34\n",
              "Soft sawnwood Price             34\n",
              "Soft sawnwood price % Change    34\n",
              "Wood pulp Price                  1\n",
              "Wood pulp price % Change         1\n",
              "dtype: int64"
            ]
          },
          "metadata": {},
          "execution_count": 5
        }
      ]
    },
    {
      "cell_type": "markdown",
      "source": [
        "## Lidar com dados ausentes, incorretos e inválidos\n"
      ],
      "metadata": {
        "id": "FAvWP3qKflTh"
      }
    },
    {
      "cell_type": "code",
      "source": [
        "# Replacing %, \",\" and \"-\"\n",
        "df = df.replace('%', '', regex=True)\n",
        "df = df.replace(',', '', regex=True)\n",
        "df = df.replace('-', '', regex=True)\n",
        "df = df.replace('', np.nan)\n",
        "df = df.replace('MAY90', np.nan)\n",
        "# Dropping rows with NaN values\n",
        "df = df.dropna()\n",
        "# Check to see if all NaN values are resolved\n",
        "df.isnull().sum()\n",
        "# Converting data type to float\n",
        "lst = [\"Coarse wool Price\", \"Coarse wool price % Change\", \"Copra Price\", \"Copra price % Change\", \"Cotton price % Change\",\"Fine wool Price\", \"Fine wool price % Change\", \"Hard log price % Change\", \"Hard sawnwood price % Change\", \"Hide price % change\", \"Plywood price % Change\", \"Rubber price % Change\", \"Softlog price % Change\", \"Soft sawnwood price % Change\", \"Wood pulp price % Change\"]\n",
        "df[lst] = df[lst].astype(\"float\")\n",
        "df.dtypes"
      ],
      "metadata": {
        "colab": {
          "base_uri": "https://localhost:8080/"
        },
        "id": "GysPDV0-ftjv",
        "outputId": "a6c3013f-a360-46ab-c8ff-893cb379e1d1"
      },
      "execution_count": 7,
      "outputs": [
        {
          "output_type": "execute_result",
          "data": {
            "text/plain": [
              "dtype('int64')"
            ]
          },
          "metadata": {},
          "execution_count": 7
        }
      ]
    }
  ]
}