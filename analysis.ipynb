{
  "cells": [
    {
      "cell_type": "markdown",
      "metadata": {
        "id": "view-in-github",
        "colab_type": "text"
      },
      "source": [
        "<a href=\"https://colab.research.google.com/github/pablo-rod/agricultural_products_analysis/blob/main/analysis.ipynb\" target=\"_parent\"><img src=\"https://colab.research.google.com/assets/colab-badge.svg\" alt=\"Open In Colab\"/></a>"
      ]
    },
    {
      "cell_type": "code",
      "execution_count": 1,
      "metadata": {
        "id": "Z9zN2gWuaYpt"
      },
      "outputs": [],
      "source": [
        "import pandas as pd\n",
        "import numpy as np"
      ]
    },
    {
      "cell_type": "code",
      "source": [
        "from google.colab import drive\n",
        "drive.mount('/content/drive')"
      ],
      "metadata": {
        "id": "27jRgECcadgx",
        "colab": {
          "base_uri": "https://localhost:8080/"
        },
        "outputId": "9654878a-744b-460e-c56f-3809d5505cd9"
      },
      "execution_count": 3,
      "outputs": [
        {
          "output_type": "stream",
          "name": "stdout",
          "text": [
            "Drive already mounted at /content/drive; to attempt to forcibly remount, call drive.mount(\"/content/drive\", force_remount=True).\n"
          ]
        }
      ]
    },
    {
      "cell_type": "code",
      "execution_count": 5,
      "metadata": {
        "id": "XiSaYs2qaYp1"
      },
      "outputs": [],
      "source": [
        "df = pd.read_csv('/content/drive/MyDrive/Colab Notebooks/agricultural_products_analysis/agricultural_raw_material.csv')"
      ]
    },
    {
      "cell_type": "markdown",
      "metadata": {
        "id": "vwpLyGSbaYp3"
      },
      "source": [
        "## Explorando o conjunto de dados"
      ]
    },
    {
      "cell_type": "markdown",
      "metadata": {
        "id": "efoF3cp2aYp7"
      },
      "source": [
        "Checando se existem registros nulos nas colunas"
      ]
    },
    {
      "cell_type": "code",
      "execution_count": 6,
      "metadata": {
        "id": "rUNlWvE8aYp8",
        "outputId": "821478f5-48b4-4a96-8b6d-7a3f8f1af22b",
        "colab": {
          "base_uri": "https://localhost:8080/"
        }
      },
      "outputs": [
        {
          "output_type": "execute_result",
          "data": {
            "text/plain": [
              "Month                            0\n",
              "Coarse wool Price               34\n",
              "Coarse wool price % Change      34\n",
              "Copra Price                     22\n",
              "Copra price % Change            22\n",
              "Cotton Price                     0\n",
              "Cotton price % Change            0\n",
              "Fine wool Price                 34\n",
              "Fine wool price % Change        34\n",
              "Hard log Price                   0\n",
              "Hard log price % Change          0\n",
              "Hard sawnwood Price             34\n",
              "Hard sawnwood price % Change    34\n",
              "Hide Price                      34\n",
              "Hide price % change             34\n",
              "Plywood Price                    0\n",
              "Plywood price % Change           0\n",
              "Rubber Price                     0\n",
              "Rubber price % Change            0\n",
              "Softlog Price                   34\n",
              "Softlog price % Change          34\n",
              "Soft sawnwood Price             34\n",
              "Soft sawnwood price % Change    34\n",
              "Wood pulp Price                  1\n",
              "Wood pulp price % Change         1\n",
              "dtype: int64"
            ]
          },
          "metadata": {},
          "execution_count": 6
        }
      ],
      "source": [
        "df.info\n",
        "df.isnull().sum()"
      ]
    },
    {
      "cell_type": "markdown",
      "metadata": {
        "id": "4qfznjZnaYp_"
      },
      "source": [
        "## Lidar com dados ausentes, incorretos e inválidos\n"
      ]
    },
    {
      "cell_type": "code",
      "execution_count": 11,
      "metadata": {
        "id": "S7B0fA_maYqA",
        "outputId": "ffa58f48-727d-45c7-ca7b-88d465d1cd64",
        "colab": {
          "base_uri": "https://localhost:8080/",
          "height": 245
        }
      },
      "outputs": [
        {
          "output_type": "error",
          "ename": "AttributeError",
          "evalue": "ignored",
          "traceback": [
            "\u001b[0;31m---------------------------------------------------------------------------\u001b[0m",
            "\u001b[0;31mAttributeError\u001b[0m                            Traceback (most recent call last)",
            "\u001b[0;32m<ipython-input-11-127e9f1d2638>\u001b[0m in \u001b[0;36m<cell line: 2>\u001b[0;34m()\u001b[0m\n\u001b[1;32m      1\u001b[0m \u001b[0;31m# replacing values with % , '-'\u001b[0m\u001b[0;34m\u001b[0m\u001b[0;34m\u001b[0m\u001b[0m\n\u001b[0;32m----> 2\u001b[0;31m \u001b[0mdf\u001b[0m \u001b[0;34m=\u001b[0m \u001b[0mdf\u001b[0m\u001b[0;34m.\u001b[0m\u001b[0mreplace\u001b[0m\u001b[0;34m(\u001b[0m\u001b[0;34m'%'\u001b[0m\u001b[0;34m,\u001b[0m \u001b[0;34m''\u001b[0m\u001b[0;34m,\u001b[0m \u001b[0mregex\u001b[0m\u001b[0;34m=\u001b[0m\u001b[0;32mTrue\u001b[0m\u001b[0;34m)\u001b[0m\u001b[0;34m\u001b[0m\u001b[0;34m\u001b[0m\u001b[0m\n\u001b[0m\u001b[1;32m      3\u001b[0m \u001b[0mdf\u001b[0m \u001b[0;34m=\u001b[0m \u001b[0mdf\u001b[0m\u001b[0;34m.\u001b[0m\u001b[0mreplace\u001b[0m\u001b[0;34m(\u001b[0m\u001b[0;34m','\u001b[0m\u001b[0;34m,\u001b[0m \u001b[0;34m''\u001b[0m\u001b[0;34m,\u001b[0m \u001b[0mregex\u001b[0m\u001b[0;34m=\u001b[0m\u001b[0;32mTrue\u001b[0m\u001b[0;34m)\u001b[0m\u001b[0;34m\u001b[0m\u001b[0;34m\u001b[0m\u001b[0m\n\u001b[1;32m      4\u001b[0m \u001b[0mdf\u001b[0m \u001b[0;34m=\u001b[0m \u001b[0mdf\u001b[0m\u001b[0;34m.\u001b[0m\u001b[0mreplace\u001b[0m\u001b[0;34m(\u001b[0m\u001b[0;34m'-'\u001b[0m\u001b[0;34m,\u001b[0m \u001b[0;34m''\u001b[0m\u001b[0;34m,\u001b[0m \u001b[0mregex\u001b[0m\u001b[0;34m=\u001b[0m\u001b[0;32mTrue\u001b[0m\u001b[0;34m)\u001b[0m\u001b[0;34m\u001b[0m\u001b[0;34m\u001b[0m\u001b[0m\n\u001b[1;32m      5\u001b[0m \u001b[0mdf\u001b[0m \u001b[0;34m=\u001b[0m \u001b[0mdf\u001b[0m\u001b[0;34m.\u001b[0m\u001b[0mreplace\u001b[0m\u001b[0;34m(\u001b[0m\u001b[0;34m''\u001b[0m\u001b[0;34m,\u001b[0m \u001b[0mnp\u001b[0m\u001b[0;34m.\u001b[0m\u001b[0mnan\u001b[0m\u001b[0;34m)\u001b[0m\u001b[0;34m\u001b[0m\u001b[0;34m\u001b[0m\u001b[0m\n",
            "\u001b[0;31mAttributeError\u001b[0m: 'numpy.int64' object has no attribute 'replace'"
          ]
        }
      ],
      "source": [
        "# replacing values with % , '-'\n",
        "df = df.replace('%', '', regex=True)\n",
        "df = df.replace(',', '', regex=True)\n",
        "df = df.replace('-', '', regex=True)\n",
        "df = df.replace('', np.nan)\n",
        "df = df.replace('MAY90', np.nan)\n",
        "# dropping rows with nan values\n",
        "df = df.dropna()\n",
        "# checking if the nan values are resolved\n",
        "df = df.isnull().sum()\n",
        "\n",
        "# coverting datatypes to float\n",
        "lst = [\"Coarse wool Price\", \"Coarse wool price % Change\", \"Copra Price\", \"Copra price % Change\", \"Cotton price % Change\",\"Fine wool Price\", \"Fine wool price % Change\", \"Hard log price % Change\", \"Hard sawnwood price % Change\", \"Hide price % change\", \"Plywood price % Change\", \"Rubber price % Change\", \"Softlog price % Change\", \"Soft sawnwood price % Change\", \"Wood pulp price % Change\"]\n",
        "df[lst] = df[lst].astype('float')\n",
        "df.dtypes\n"
      ]
    },
    {
      "cell_type": "code",
      "execution_count": 9,
      "metadata": {
        "id": "1CGlX9ZUaYqC",
        "outputId": "677948a7-9e17-486f-aeb7-28485d8d7e1b",
        "colab": {
          "base_uri": "https://localhost:8080/"
        }
      },
      "outputs": [
        {
          "output_type": "execute_result",
          "data": {
            "text/plain": [
              "Month                         0\n",
              "Coarse wool Price             0\n",
              "Coarse wool price % Change    0\n",
              "Copra Price                   0\n",
              "Copra price % Change          0\n",
              "dtype: int64"
            ]
          },
          "metadata": {},
          "execution_count": 9
        }
      ],
      "source": [
        "df.head()"
      ]
    },
    {
      "cell_type": "code",
      "execution_count": null,
      "metadata": {
        "id": "Pw9fTeqfaYqE"
      },
      "outputs": [],
      "source": []
    }
  ],
  "metadata": {
    "kernelspec": {
      "display_name": "Python 3.12.0 64-bit",
      "language": "python",
      "name": "python3"
    },
    "language_info": {
      "codemirror_mode": {
        "name": "ipython",
        "version": 3
      },
      "file_extension": ".py",
      "mimetype": "text/x-python",
      "name": "python",
      "nbconvert_exporter": "python",
      "pygments_lexer": "ipython3",
      "version": "3.12.0"
    },
    "orig_nbformat": 4,
    "vscode": {
      "interpreter": {
        "hash": "e65ff8466089ec40d6e0c78e500dc1e5d4109b0b78500948df0833e62ca90330"
      }
    },
    "colab": {
      "provenance": [],
      "include_colab_link": true
    }
  },
  "nbformat": 4,
  "nbformat_minor": 0
}